{
 "cells": [
  {
   "cell_type": "markdown",
   "metadata": {},
   "source": [
    "# Leap year\n",
    "\n",
    "\n",
    "What's a leap year? The Gregorian calendar, in use in most of the world, has 365 days in each year. The Earth takes slightly more than 365 days to go around the sun. So every 4 years (or so) we add an extra day to the year to get back in sync. The years with extra days are called **leap years**. \n",
    "\n",
    "You will start by writing a program that makes a close (but incorrect) calculation of leap years. \n",
    "\n",
    "<div class=\"alert alert-info\"><b>Exercise 1 </b> Write the code to create a program that asks the user to input a year and prints <i>\"It is a leap year!\"</i> if the year is divisible by 4, or <i>\"It is just a plain old year.\"</i> otherwise</li>\n",
    "</ul>\n",
    "</div>"
   ]
  },
  {
   "cell_type": "code",
   "execution_count": null,
   "metadata": {},
   "outputs": [],
   "source": [
    "# WRITE YOUR CODE HERE"
   ]
  },
  {
   "cell_type": "markdown",
   "metadata": {},
   "source": [
    "Your next task will be to check if your program works as expected. \n",
    "\n",
    "<div class=\"alert alert-info\"><b>Exercise 2 </b>Come up with two good test cases to check that your program above returns the desired output. Remember that test cases are meant to check that your program returns the expected output for a given input. In the cell below, share your test cases and what your program outputs when you enter them.</div>"
   ]
  },
  {
   "cell_type": "code",
   "execution_count": null,
   "metadata": {},
   "outputs": [],
   "source": []
  },
  {
   "cell_type": "markdown",
   "metadata": {},
   "source": [
    "A leap year every 4 years is a bit too much. It turns out that every year that is divisible by 100 is actually not a leap year.\n",
    "\n",
    "<div class=\"alert alert-info\"><b>Exercise 3 </b>Copy your working code above into the cell below and modify it so that it only recognizes years divisible by 4 but not by 100 as leap years.</div>"
   ]
  },
  {
   "cell_type": "code",
   "execution_count": null,
   "metadata": {},
   "outputs": [],
   "source": [
    "# WRITE YOUR CODE HERE"
   ]
  },
  {
   "cell_type": "markdown",
   "metadata": {},
   "source": [
    "What new test case(s) do you need to add to ensure your program works? What does your code do when run on the new test case(s)? Do the old test cases still work? \n",
    "\n",
    "<div class=\"alert alert-info\"><b>Exercise 4 </b>In the cell below, share any new test cases that you may need to consider and what your program outputs when you enter them.</div>"
   ]
  },
  {
   "cell_type": "code",
   "execution_count": null,
   "metadata": {},
   "outputs": [],
   "source": []
  },
  {
   "cell_type": "markdown",
   "metadata": {},
   "source": [
    "Now we've gone too far the other way. Years that are multiples of 400 are actually a leap year. \n",
    "\n",
    "<div class=\"alert alert-info\"><b>Exercise 5 </b>Copy your working code into the cell below and modify it so that it only recognizes as leap years those that are divisible by 4, but not by 100, unless divisible by 400.</div>"
   ]
  },
  {
   "cell_type": "code",
   "execution_count": null,
   "metadata": {},
   "outputs": [],
   "source": [
    "# WRITE YOUR CODE HERE"
   ]
  },
  {
   "cell_type": "markdown",
   "metadata": {},
   "source": [
    "What new test case(s) do you need to add to ensure your program works? What does your code do when run on the new test case(s)? Do the old test cases still work? Answer below.\n",
    "\n",
    "<div class=\"alert alert-info\"><b>Exercise 6 </b>In the cell below, share any new test cases that you may need to consider and what your program outputs when you enter them.</div>"
   ]
  },
  {
   "cell_type": "code",
   "execution_count": null,
   "metadata": {},
   "outputs": [],
   "source": []
  }
 ],
 "metadata": {
  "kernelspec": {
   "display_name": "homecare",
   "language": "python",
   "name": "homecare"
  },
  "language_info": {
   "codemirror_mode": {
    "name": "ipython",
    "version": 3
   },
   "file_extension": ".py",
   "mimetype": "text/x-python",
   "name": "python",
   "nbconvert_exporter": "python",
   "pygments_lexer": "ipython3",
   "version": "3.7.11"
  },
  "orig_nbformat": 4
 },
 "nbformat": 4,
 "nbformat_minor": 2
}
